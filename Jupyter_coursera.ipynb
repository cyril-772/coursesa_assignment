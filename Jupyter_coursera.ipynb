{
 "cells": [
  {
   "cell_type": "markdown",
   "id": "401d67e7-6468-49bf-bb5f-92ff7368e86a",
   "metadata": {},
   "source": [
    "<H1> JUPYTER NOTEBOOK </H1>"
   ]
  },
  {
   "cell_type": "markdown",
   "id": "74139117-851e-425a-81bd-340452cedc66",
   "metadata": {},
   "source": [
    "<p>This is a Jupyter Notebook peer graded assignment</p>"
   ]
  },
  {
   "cell_type": "markdown",
   "id": "8a1e6a36-da1b-41b0-a7c2-fc4312faa913",
   "metadata": {},
   "source": [
    "<ol>\n",
    "    <li>R</li>\n",
    "    <li>Scala</li>\n",
    "    <li>Python</li>\n",
    "</ol>"
   ]
  },
  {
   "cell_type": "markdown",
   "id": "e03ebab8-55a7-42bc-8eca-9d0bbabfc06d",
   "metadata": {},
   "source": [
    "<ol>\n",
    "    <li>TensorFlow</li>\n",
    "    <li>Pandas</li>\n",
    "    <li>Matplotlib</li>\n",
    "</ol>"
   ]
  },
  {
   "cell_type": "markdown",
   "id": "128ca1cc-c26b-4b17-98a8-07fb1d1fb34e",
   "metadata": {},
   "source": [
    "<table>\n",
    "    <caption>Data Science Tools</caption>\n",
    "    <thead>\n",
    "        <tr>\n",
    "            <th>Tools - ML</th>\n",
    "            <th>Tools - Data Visualization</th>\n",
    "        </tr>\n",
    "    </thead>\n",
    "    <tbody>\n",
    "        <tr>\n",
    "            <td>TensorFlow</td>\n",
    "            <td>Matplotlib</td>\n",
    "        </tr>\n",
    "        <tr>\n",
    "            <td>Scikit-learn</td>\n",
    "            <td>Tableau</td>\n",
    "        </tr>\n",
    "    </tbody>\n",
    "</table>\n"
   ]
  },
  {
   "cell_type": "markdown",
   "id": "3a9e8937-3bdc-489f-b220-2a95dcd47338",
   "metadata": {},
   "source": [
    "- **Addition**: `2 + 3` results in **5**\n",
    "- **Subtraction**: `7 - 4` results in **3**\n",
    "- **Multiplication**: `5 * 6` results in **30**\n",
    "- **Division**: `8 / 2` results in **4.0**\n",
    "- **Exponentiation**: `2 ** 3` results in **8**\n",
    "- **Modulus** (remainder): `10 % 3` results in **1**"
   ]
  },
  {
   "cell_type": "code",
   "execution_count": 1,
   "id": "2563c5e7-d697-456c-9eb6-b67bfb3c375b",
   "metadata": {},
   "outputs": [
    {
     "name": "stdout",
     "output_type": "stream",
     "text": [
      "Multiplication Result (6 * 7): 42\n",
      "Addition Result (10 + 15): 25\n"
     ]
    }
   ],
   "source": [
    "# Multiplication\n",
    "product = 6 * 7\n",
    "print(\"Multiplication Result (6 * 7):\", product)\n",
    "\n",
    "# Addition\n",
    "sum_result = 10 + 15\n",
    "print(\"Addition Result (10 + 15):\", sum_result)\n"
   ]
  },
  {
   "cell_type": "code",
   "execution_count": 2,
   "id": "a383d8ee-a75a-464d-bcdc-bddedeea4b4b",
   "metadata": {},
   "outputs": [
    {
     "name": "stdout",
     "output_type": "stream",
     "text": [
      "150 minutes is equal to 2.5 hours\n"
     ]
    }
   ],
   "source": [
    "# Convert minutes to hours\n",
    "minutes = 150\n",
    "hours = minutes / 60\n",
    "\n",
    "print(f\"{minutes} minutes is equal to {hours} hours\")\n"
   ]
  },
  {
   "cell_type": "markdown",
   "id": "150b14d1-2c32-4ced-ab4e-f29bf98269ad",
   "metadata": {},
   "source": [
    "### Objectives\n",
    "\n",
    "In this lesson, you will:\n",
    "\n",
    "- Understand basic arithmetic expressions in Python  \n",
    "- Perform addition, subtraction, multiplication, and division  \n",
    "- Convert values from minutes to hours  \n",
    "- Use Markdown and code cells effectively in Jupyter Notebook  \n",
    "- Create and format tables using Markdown or HTML  \n"
   ]
  },
  {
   "cell_type": "markdown",
   "id": "e2b0cb9e-7037-4fff-8a9d-f425622112e7",
   "metadata": {},
   "source": [
    "**Author:** J K Rowling\n",
    "\n"
   ]
  },
  {
   "cell_type": "code",
   "execution_count": null,
   "id": "4cda3135-e332-40aa-b471-3249e0a7c3c7",
   "metadata": {},
   "outputs": [],
   "source": []
  }
 ],
 "metadata": {
  "kernelspec": {
   "display_name": "Python 3 (ipykernel)",
   "language": "python",
   "name": "python3"
  },
  "language_info": {
   "codemirror_mode": {
    "name": "ipython",
    "version": 3
   },
   "file_extension": ".py",
   "mimetype": "text/x-python",
   "name": "python",
   "nbconvert_exporter": "python",
   "pygments_lexer": "ipython3",
   "version": "3.8.16"
  }
 },
 "nbformat": 4,
 "nbformat_minor": 5
}
